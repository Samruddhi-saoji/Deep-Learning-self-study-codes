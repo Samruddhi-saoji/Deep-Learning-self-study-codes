{
  "nbformat": 4,
  "nbformat_minor": 0,
  "metadata": {
    "colab": {
      "provenance": [],
      "authorship_tag": "ABX9TyMrJtc2Pd8LnQsQJy8Godts",
      "include_colab_link": true
    },
    "kernelspec": {
      "name": "python3",
      "display_name": "Python 3"
    },
    "language_info": {
      "name": "python"
    }
  },
  "cells": [
    {
      "cell_type": "markdown",
      "metadata": {
        "id": "view-in-github",
        "colab_type": "text"
      },
      "source": [
        "<a href=\"https://colab.research.google.com/github/Samruddhi-saoji/Deep-Learning-self-study-codes/blob/main/Hyperparameter_tuning.ipynb\" target=\"_parent\"><img src=\"https://colab.research.google.com/assets/colab-badge.svg\" alt=\"Open In Colab\"/></a>"
      ]
    },
    {
      "cell_type": "code",
      "execution_count": null,
      "metadata": {
        "id": "l-e8Bq7E9HwA"
      },
      "outputs": [],
      "source": [
        "!pip install keras-tuner"
      ]
    },
    {
      "cell_type": "markdown",
      "source": [
        "Image classification on cifar10 dataset with Hyperparameter tuning"
      ],
      "metadata": {
        "id": "V3kwtE-O9bgj"
      }
    },
    {
      "cell_type": "code",
      "source": [
        "# import libraries\n",
        "import numpy as np\n",
        "import matplotlib.pyplot as plt\n",
        "\n",
        "import tensorflow as tf\n",
        "from keras import layers, models\n",
        "from tensorflow.keras.models import Sequential\n",
        "from tensorflow.keras.layers import Conv2D, MaxPooling2D, Flatten, Dense\n",
        "import keras_tuner as kt\n",
        "from tensorflow.keras.optimizers import Adam"
      ],
      "metadata": {
        "id": "tcNSFGEn9si-"
      },
      "execution_count": null,
      "outputs": []
    },
    {
      "cell_type": "markdown",
      "source": [
        "Prepare data"
      ],
      "metadata": {
        "id": "wrM3ZtIy-ObU"
      }
    },
    {
      "cell_type": "code",
      "source": [
        "# import dataset\n",
        "from tensorflow.keras.datasets import cifar10\n",
        "\n",
        "# Train test split\n",
        "(X_train, Y_train), (X_test, Y_test) = cifar10.load_data()\n",
        "\n",
        "# feature scaling\n",
        "X_train, X_test = X_train / 255.0, X_test / 255.0"
      ],
      "metadata": {
        "colab": {
          "base_uri": "https://localhost:8080/"
        },
        "id": "jH5sCtLm9h1d",
        "outputId": "1da56c73-b316-4929-d19d-1d28179ec54c"
      },
      "execution_count": null,
      "outputs": [
        {
          "output_type": "stream",
          "name": "stdout",
          "text": [
            "Downloading data from https://www.cs.toronto.edu/~kriz/cifar-10-python.tar.gz\n",
            "170498071/170498071 [==============================] - 3s 0us/step\n"
          ]
        }
      ]
    },
    {
      "cell_type": "code",
      "source": [
        "e = 2 #training epochs"
      ],
      "metadata": {
        "id": "mFRuObDo2bwp"
      },
      "execution_count": null,
      "outputs": []
    },
    {
      "cell_type": "markdown",
      "source": [
        "# Hyperactive tuning using Random Search technique"
      ],
      "metadata": {
        "id": "W3inx8TBsFkQ"
      }
    },
    {
      "cell_type": "markdown",
      "source": [
        "## Define model building function"
      ],
      "metadata": {
        "id": "IwvIyoVvsP3w"
      }
    },
    {
      "cell_type": "code",
      "source": [
        "# argument hp will be passed by the tuner\n",
        "def build_model(hp):\n",
        "    model = Sequential()\n",
        "\n",
        "    # add layers\n",
        "    model.add(Conv2D(\n",
        "        filters=hp.Int('filters', min_value=32, max_value=128, step=32),\n",
        "        kernel_size=(3, 3),\n",
        "        activation='relu',\n",
        "        input_shape=(32, 32, 3)))\n",
        "    model.add(MaxPooling2D((2, 2)))\n",
        "    model.add(Flatten())\n",
        "    model.add(Dense(\n",
        "        units=hp.Int('units', min_value=32, max_value=128, step=32),\n",
        "        activation='relu'))\n",
        "    model.add(Dense(10, activation='softmax'))\n",
        "\n",
        "    # compile model\n",
        "    model.compile(\n",
        "        optimizer=Adam(\n",
        "            learning_rate=hp.Choice('learning_rate', values=[1e-2, 1e-3, 1e-4])),\n",
        "        loss='sparse_categorical_crossentropy',\n",
        "        metrics=['accuracy'])\n",
        "\n",
        "    return model"
      ],
      "metadata": {
        "id": "jfyq6KCm9Xrc"
      },
      "execution_count": null,
      "outputs": []
    },
    {
      "cell_type": "markdown",
      "source": [
        "## Create tuner object"
      ],
      "metadata": {
        "id": "VYkHMIL7sXBI"
      }
    },
    {
      "cell_type": "code",
      "source": [
        "# Create tuner object\n",
        "tuner = kt.RandomSearch(\n",
        "    build_model, #function to build model\n",
        "    objective='val_accuracy',\n",
        "    max_trials=2,\n",
        "    executions_per_trial=2,\n",
        "    directory='my_dir',\n",
        "    project_name='cifar10_tuning')"
      ],
      "metadata": {
        "colab": {
          "base_uri": "https://localhost:8080/"
        },
        "id": "bCgRcgTssbMZ",
        "outputId": "918286cf-0319-4fe4-f865-b858ac35d40b"
      },
      "execution_count": null,
      "outputs": [
        {
          "output_type": "stream",
          "name": "stdout",
          "text": [
            "Reloading Tuner from my_dir/cifar10_tuning/tuner0.json\n"
          ]
        }
      ]
    },
    {
      "cell_type": "markdown",
      "source": [
        "## Do the Tuning"
      ],
      "metadata": {
        "id": "eh-foqi4uJ8f"
      }
    },
    {
      "cell_type": "code",
      "source": [
        "# do the tuning\n",
        "tuner.search(X_train, Y_train, epochs=e, validation_split=0.2)\n",
        "\n",
        "# find the best set of hp\n",
        "best_hp = tuner.get_best_hyperparameters(num_trials=1)[0]"
      ],
      "metadata": {
        "colab": {
          "base_uri": "https://localhost:8080/"
        },
        "id": "vC23t9MJuMo5",
        "outputId": "5398347a-f719-4d46-e212-fded28c57814"
      },
      "execution_count": null,
      "outputs": [
        {
          "output_type": "stream",
          "name": "stdout",
          "text": [
            "Trial 6 Complete [00h 06m 48s]\n",
            "val_accuracy: 0.5900000035762787\n",
            "\n",
            "Best val_accuracy So Far: 0.6037999987602234\n",
            "Total elapsed time: 00h 25m 18s\n"
          ]
        }
      ]
    },
    {
      "cell_type": "markdown",
      "source": [
        "# Training"
      ],
      "metadata": {
        "id": "Du9mMcfns2ko"
      }
    },
    {
      "cell_type": "markdown",
      "source": [
        "## Create the model with the best hp values"
      ],
      "metadata": {
        "id": "jKwKvXrEuoo6"
      }
    },
    {
      "cell_type": "code",
      "source": [
        "# create the model with the best hyperparams\n",
        "model = tuner.hypermodel.build(best_hp)"
      ],
      "metadata": {
        "id": "amR2yrQwtDbL"
      },
      "execution_count": null,
      "outputs": []
    },
    {
      "cell_type": "markdown",
      "source": [
        "## Train the model"
      ],
      "metadata": {
        "id": "0eXr0i4Hux00"
      }
    },
    {
      "cell_type": "code",
      "source": [
        "# Training and validation\n",
        "train_info = model.fit(X_train, Y_train, epochs=e, validation_split=0.2)"
      ],
      "metadata": {
        "colab": {
          "base_uri": "https://localhost:8080/"
        },
        "id": "V5V5x-H6u1TT",
        "outputId": "3015dd5d-7323-46a7-a792-9fbe0f482b98"
      },
      "execution_count": null,
      "outputs": [
        {
          "output_type": "stream",
          "name": "stdout",
          "text": [
            "Epoch 1/2\n",
            "1250/1250 [==============================] - 45s 35ms/step - loss: 1.4548 - accuracy: 0.4791 - val_loss: 1.2499 - val_accuracy: 0.5659\n",
            "Epoch 2/2\n",
            "1250/1250 [==============================] - 45s 36ms/step - loss: 1.1528 - accuracy: 0.5957 - val_loss: 1.2046 - val_accuracy: 0.5785\n"
          ]
        }
      ]
    },
    {
      "cell_type": "markdown",
      "source": [
        "## Plot loss over epochs"
      ],
      "metadata": {
        "id": "HYQYNJ3416nN"
      }
    },
    {
      "cell_type": "code",
      "source": [
        "#plot the loss over the epochs\n",
        "plt.plot(train_info.history['loss'], label='Training Loss')\n",
        "plt.plot(train_info.history['val_loss'], label='Validation Loss')\n",
        "plt.legend()\n",
        "plt.title('Training Loss Over Epochs')\n",
        "plt.xlabel('Epoch')\n",
        "plt.ylabel('Loss')\n",
        "plt.show()"
      ],
      "metadata": {
        "colab": {
          "base_uri": "https://localhost:8080/",
          "height": 231
        },
        "id": "35HRXI2T19w2",
        "outputId": "e17dc654-da98-4421-d521-e97db6572539"
      },
      "execution_count": null,
      "outputs": [
        {
          "output_type": "display_data",
          "data": {
            "text/plain": [
              "<Figure size 640x480 with 1 Axes>"
            ],
            "image/png": "[encoded data removed]"
          },
          "metadata": {}
        }
      ]
    },
    {
      "cell_type": "markdown",
      "source": [
        "# Testing"
      ],
      "metadata": {
        "id": "A_DTCspYtpP7"
      }
    },
    {
      "cell_type": "code",
      "source": [
        "test_loss, test_accuracy = model.evaluate(X_test, Y_test)\n",
        "print(f\"Test accuracy:{test_accuracy:.4f}\")"
      ],
      "metadata": {
        "colab": {
          "base_uri": "https://localhost:8080/"
        },
        "id": "kOq7MIXN2Jw7",
        "outputId": "8262f776-f930-479c-930c-cf1da59de5eb"
      },
      "execution_count": null,
      "outputs": [
        {
          "output_type": "stream",
          "name": "stdout",
          "text": [
            "313/313 [==============================] - 3s 8ms/step - loss: 1.1911 - accuracy: 0.5740\n",
            "Test accuracy:0.5740\n"
          ]
        }
      ]
    }
  ]
}